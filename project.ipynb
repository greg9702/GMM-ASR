{
 "cells": [
  {
   "cell_type": "code",
   "execution_count": 2,
   "metadata": {},
   "outputs": [],
   "source": [
    "import os\n",
    "import numpy as np\n",
    "\n",
    "from hmmlearn import hmm\n",
    "from scipy.io import wavfile\n",
    "from python_speech_features import mfcc\n",
    "from typing import Dict, List, Tuple"
   ]
  },
  {
   "cell_type": "code",
   "execution_count": 5,
   "metadata": {},
   "outputs": [],
   "source": [
    "TRAIN_DIR = \"Data/isolated_digits_ti_train_endpt\"\n",
    "TEST_DIR = \"Data/isolated_digits_ti_test_endpt\"\n",
    "\n",
    "NUM_CEP = 13  # parameter for MFCC\n",
    "NUM_LABELS = 11  # 1, 2, 3, 4, ...\n",
    "PRINT_FREQ = 500"
   ]
  },
  {
   "cell_type": "code",
   "execution_count": 3,
   "metadata": {},
   "outputs": [],
   "source": [
    "# Class to handle all HMM related processing\n",
    "class HMMTrainer(object):\n",
    "    def __init__(self, model_name='GaussianHMM', n_components=4, cov_type='diag', n_iter=1000):\n",
    "        self.model_name = model_name\n",
    "        self.n_components = n_components\n",
    "        self.cov_type = cov_type\n",
    "        self.n_iter = n_iter\n",
    "        self.models = []\n",
    "\n",
    "        if self.model_name == 'GaussianHMM':\n",
    "            self.model = hmm.GaussianHMM(n_components=self.n_components,\n",
    "                                         covariance_type=self.cov_type, n_iter=self.n_iter)\n",
    "        else:\n",
    "            raise TypeError('Invalid model type')\n",
    "\n",
    "    # X is a 2D numpy array where each row is 13D\n",
    "    def train(self, X):\n",
    "        np.seterr(all='ignore')\n",
    "        self.models.append(self.model.fit(X))\n",
    "\n",
    "    # Run the model on input data\n",
    "    def get_score(self, input_data):\n",
    "        return self.model.score(input_data)\n"
   ]
  },
  {
   "cell_type": "code",
   "execution_count": 6,
   "metadata": {},
   "outputs": [],
   "source": [
    "Label = str\n",
    "Features = np.ndarray\n",
    "FeaturesByLabelsDict = Dict[Label, Features]\n",
    "ModelLabelTuple = Tuple[HMMTrainer, Label]\n",
    "ModelsList = List[ModelLabelTuple]\n",
    "\n",
    "def extract_label(file_name: str) -> str:\n",
    "    return file_name[0]\n",
    "\n",
    "\n",
    "def get_test_files() -> [str]:\n",
    "    test_files: List[str] = []\n",
    "    for gender_dir_name in os.listdir(TEST_DIR):\n",
    "        # MAN, WOMAN\n",
    "        gender_dir = os.path.join(TEST_DIR, gender_dir_name)\n",
    "        if not os.path.isdir(gender_dir):\n",
    "            continue\n",
    "\n",
    "        for person_dir_name in os.listdir(gender_dir):\n",
    "            # AH, AR, ...\n",
    "            person_dir = os.path.join(gender_dir, person_dir_name)\n",
    "\n",
    "            for file_name in [x for x in os.listdir(person_dir) if x.endswith('.wav')]:\n",
    "                file = os.path.join(person_dir, file_name)\n",
    "                test_files.append(file)\n",
    "    return test_files\n",
    "\n",
    "\n",
    "def obtain_mfcc_features() -> FeaturesByLabelsDict:\n",
    "    mfcc_by_label: Dict[str, np.ndarray] = {}\n",
    "\n",
    "    for gender_dir_name in os.listdir(TRAIN_DIR):\n",
    "        # MAN, WOMAN\n",
    "        gender_dir = os.path.join(TRAIN_DIR, gender_dir_name)\n",
    "        if not os.path.isdir(gender_dir):\n",
    "            continue\n",
    "\n",
    "        for person_dir_name in os.listdir(gender_dir):\n",
    "            # AH, AR, ...\n",
    "            person_dir = os.path.join(gender_dir, person_dir_name)\n",
    "\n",
    "            for file_name in [x for x in os.listdir(person_dir) if x.endswith('.wav')]:\n",
    "\n",
    "                label = extract_label(file_name)\n",
    "                if label not in mfcc_by_label:\n",
    "                    mfcc_by_label[label] = np.empty((0, NUM_CEP))\n",
    "\n",
    "                file_path = os.path.join(person_dir, file_name)\n",
    "                sampling_freq, audio = wavfile.read(file_path)\n",
    "\n",
    "                # Extract MFCC features\n",
    "                mfcc_features = mfcc(audio, sampling_freq, numcep=NUM_CEP)\n",
    "\n",
    "                mfcc_by_label[label] = np.append(mfcc_by_label[label], mfcc_features, axis=0)\n",
    "    return mfcc_by_label\n",
    "\n",
    "\n",
    "def train_hmm_models(data: FeaturesByLabelsDict) -> ModelsList:\n",
    "    models: ModelsList = []\n",
    "    for label, features in data.items():\n",
    "        print('features of', label, 'shape =', features.shape)\n",
    "        hmm_model = HMMTrainer()\n",
    "        hmm_model.train(features)\n",
    "        models.append((hmm_model, label))\n",
    "    return models\n",
    "\n",
    "\n",
    "def predict_label(models_list: ModelsList, features: Features) -> Label:\n",
    "    max_score = -10_000\n",
    "    best_label = None\n",
    "\n",
    "    for item in models_list:\n",
    "        hmm_model, label = item\n",
    "        score = hmm_model.get_score(features)\n",
    "        if score > max_score:\n",
    "            max_score = score\n",
    "            best_label = label\n",
    "    return best_label"
   ]
  },
  {
   "cell_type": "code",
   "execution_count": 14,
   "metadata": {},
   "outputs": [],
   "source": [
    "features_by_label = obtain_mfcc_features()"
   ]
  },
  {
   "cell_type": "code",
   "execution_count": 15,
   "metadata": {},
   "outputs": [
    {
     "name": "stdout",
     "output_type": "stream",
     "text": [
      "features of 8 shape = (8822, 13)\n",
      "features of 2 shape = (8967, 13)\n",
      "features of 5 shape = (11543, 13)\n",
      "features of Z shape = (12249, 13)\n",
      "features of 9 shape = (11916, 13)\n",
      "features of O shape = (9147, 13)\n",
      "features of 1 shape = (10885, 13)\n",
      "features of 3 shape = (10061, 13)\n",
      "features of 7 shape = (11503, 13)\n",
      "features of 4 shape = (10245, 13)\n",
      "features of 6 shape = (12290, 13)\n"
     ]
    }
   ],
   "source": [
    "# MFCC MODEL TRAINING\n",
    "hmm_models = train_hmm_models(features_by_label)"
   ]
  },
  {
   "cell_type": "code",
   "execution_count": 16,
   "metadata": {},
   "outputs": [
    {
     "name": "stdout",
     "output_type": "stream",
     "text": [
      "File: Data/isolated_digits_ti_test_endpt/MAN/TC/8A_endpt.wav\n",
      "True label: 8, predicted label: 8\n",
      "\n",
      "File: Data/isolated_digits_ti_test_endpt/MAN/NP/6A_endpt.wav\n",
      "True label: 6, predicted label: 6\n",
      "\n",
      "File: Data/isolated_digits_ti_test_endpt/MAN/GP/8B_endpt.wav\n",
      "True label: 8, predicted label: 8\n",
      "\n",
      "File: Data/isolated_digits_ti_test_endpt/WOMAN/LP/9B_endpt.wav\n",
      "True label: 9, predicted label: 9\n",
      "\n",
      "File: Data/isolated_digits_ti_test_endpt/WOMAN/RM/4B_endpt.wav\n",
      "True label: 4, predicted label: 4\n",
      "\n",
      "Accuracy: 0.9456958970233307\n"
     ]
    }
   ],
   "source": [
    "# MFCC MODEL TESTING\n",
    "test_files = get_test_files()\n",
    "no_files = len(test_files)\n",
    "no_correct_pred = 0\n",
    "for i, test_file in enumerate(test_files):\n",
    "    sampling_freq, audio = wavfile.read(test_file)\n",
    "    mfcc_features = mfcc(audio, sampling_freq)\n",
    "\n",
    "    true_label = extract_label(test_file[test_file.rfind('/') + 1:])\n",
    "    predicted_label = predict_label(hmm_models, mfcc_features)\n",
    "    no_correct_pred += true_label == predicted_label\n",
    "\n",
    "    if not i % PRINT_FREQ:\n",
    "        print(f\"File: {test_file}\\nTrue label: {true_label}, predicted label: {predicted_label}\\n\")\n",
    "\n",
    "print(f\"Accuracy: {no_correct_pred / no_files}\")"
   ]
  },
  {
   "cell_type": "code",
   "execution_count": null,
   "metadata": {},
   "outputs": [],
   "source": []
  }
 ],
 "metadata": {
  "kernelspec": {
   "display_name": "um_project",
   "language": "python",
   "name": "um_project"
  },
  "language_info": {
   "codemirror_mode": {
    "name": "ipython",
    "version": 3
   },
   "file_extension": ".py",
   "mimetype": "text/x-python",
   "name": "python",
   "nbconvert_exporter": "python",
   "pygments_lexer": "ipython3",
   "version": "3.8.6"
  }
 },
 "nbformat": 4,
 "nbformat_minor": 4
}
